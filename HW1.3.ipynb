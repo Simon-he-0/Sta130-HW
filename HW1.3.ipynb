{
 "cells": [
  {
   "cell_type": "code",
   "execution_count": 3,
   "id": "6da4496e",
   "metadata": {},
   "outputs": [
    {
     "name": "stdout",
     "output_type": "stream",
     "text": [
      "Summary Statistics for Numerical Columns:\n",
      "             id    age\n",
      "count  5.000000   4.00\n",
      "mean   3.000000  32.25\n",
      "std    1.581139   7.50\n",
      "min    1.000000  25.00\n",
      "25%    2.000000  27.25\n",
      "50%    3.000000  31.00\n",
      "75%    4.000000  36.00\n",
      "max    5.000000  42.00\n",
      "\n",
      "Value Counts for Categorical Columns:\n",
      "Name Column Value Counts:\n",
      "name\n",
      "John       1\n",
      "Alice      1\n",
      "Bob        1\n",
      "Charlie    1\n",
      "David      1\n",
      "Name: count, dtype: int64\n",
      "City Column Value Counts:\n",
      "city\n",
      "New York         1\n",
      "Los Angeles      1\n",
      "San Francisco    1\n",
      "Boston           1\n",
      "Name: count, dtype: int64\n"
     ]
    }
   ],
   "source": [
    "import pandas as pd\n",
    "\n",
    "# Load the dataset\n",
    "df = pd.read_csv('Dataset1.csv')\n",
    "# Basic statistics for numerical columns\n",
    "print(\"Summary Statistics for Numerical Columns:\")\n",
    "print(df.describe(include='number'))\n",
    "# Summary for categorical columns\n",
    "print(\"\\nValue Counts for Categorical Columns:\")\n",
    "print(\"Name Column Value Counts:\")\n",
    "print(df['name'].value_counts())\n",
    "print(\"City Column Value Counts:\")\n",
    "print(df['city'].value_counts())\n"
   ]
  },
  {
   "cell_type": "code",
   "execution_count": null,
   "id": "5694f28e",
   "metadata": {},
   "outputs": [],
   "source": []
  }
 ],
 "metadata": {
  "kernelspec": {
   "display_name": "Python 3 (ipykernel)",
   "language": "python",
   "name": "python3"
  },
  "language_info": {
   "codemirror_mode": {
    "name": "ipython",
    "version": 3
   },
   "file_extension": ".py",
   "mimetype": "text/x-python",
   "name": "python",
   "nbconvert_exporter": "python",
   "pygments_lexer": "ipython3",
   "version": "3.11.6"
  }
 },
 "nbformat": 4,
 "nbformat_minor": 5
}
