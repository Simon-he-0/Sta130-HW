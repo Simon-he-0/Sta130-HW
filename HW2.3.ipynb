{
 "cells": [
  {
   "cell_type": "code",
   "execution_count": 3,
   "id": "ba63fe31",
   "metadata": {},
   "outputs": [
    {
     "name": "stdout",
     "output_type": "stream",
     "text": [
      "Winning probability when switching: 0.67\n"
     ]
    }
   ],
   "source": [
    "import numpy as np\n",
    "\n",
    "def monty_hall_simulation(reps):\n",
    "    wins = 0 #initiate the values of wins\n",
    "    doors = [1, 2, 3]  # Make a list of doors instead of using tuple\n",
    "\n",
    "    for _ in range(reps):\n",
    "        # Set the winning door to be randomly\n",
    "        winning_door = np.random.choice(doors)\n",
    "        # Set player's first choice\n",
    "        player_choice = np.random.choice(doors)\n",
    "\n",
    "        # Determine the losing door.\n",
    "        # Select the remaining door that is neither player's choice and nor winning one\n",
    "        remaining_doors = [door for door in doors if door != player_choice and door != winning_door]\n",
    "        revealed_door = np.random.choice(remaining_doors)\n",
    "\n",
    "        # Set the player's option which is switches to the remaining door\n",
    "        new_choice = next(door for door in doors if door != player_choice and door != revealed_door)\n",
    "\n",
    "        # Check if the new choice is the winning door\n",
    "        if new_choice == winning_door:\n",
    "            wins += 1\n",
    "\n",
    "    return wins / reps#End of the loop\n",
    "\n",
    "# Run the simulation\n",
    "win_rate = monty_hall_simulation(100000)\n",
    "print(f\"Winning probability when switching: {win_rate:.2f}\")#Print the result\n"
   ]
  },
  {
   "cell_type": "code",
   "execution_count": null,
   "id": "0ef25eae",
   "metadata": {},
   "outputs": [],
   "source": []
  },
  {
   "cell_type": "code",
   "execution_count": null,
   "id": "d635560e",
   "metadata": {},
   "outputs": [],
   "source": []
  }
 ],
 "metadata": {
  "kernelspec": {
   "display_name": "Python 3 (ipykernel)",
   "language": "python",
   "name": "python3"
  },
  "language_info": {
   "codemirror_mode": {
    "name": "ipython",
    "version": 3
   },
   "file_extension": ".py",
   "mimetype": "text/x-python",
   "name": "python",
   "nbconvert_exporter": "python",
   "pygments_lexer": "ipython3",
   "version": "3.11.6"
  }
 },
 "nbformat": 4,
 "nbformat_minor": 5
}
