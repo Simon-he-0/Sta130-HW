{
 "cells": [
  {
   "cell_type": "code",
   "execution_count": 2,
   "id": "ae371720",
   "metadata": {},
   "outputs": [
    {
     "name": "stdout",
     "output_type": "stream",
     "text": [
      "DataFrame:\n",
      "   id     name   age           city\n",
      "0   1     John  28.0       New York\n",
      "1   2    Alice   NaN    Los Angeles\n",
      "2   3      Bob  34.0            NaN\n",
      "3   4  Charlie  25.0  San Francisco\n",
      "4   5    David  42.0         Boston\n",
      "\n",
      "Missing Values:\n",
      "id      0\n",
      "name    0\n",
      "age     1\n",
      "city    1\n",
      "dtype: int64\n"
     ]
    }
   ],
   "source": [
    "import pandas as pd\n",
    "\n",
    "# Load the dataset\n",
    "df = pd.read_csv('Dataset1.csv')\n",
    "\n",
    "# Display the dataframe\n",
    "print(\"DataFrame:\")\n",
    "print(df)\n",
    "\n",
    "# Check for missing values\n",
    "print(\"\\nMissing Values:\")\n",
    "print(df.isnull().sum())\n"
   ]
  }
 ],
 "metadata": {
  "kernelspec": {
   "display_name": "Python 3 (ipykernel)",
   "language": "python",
   "name": "python3"
  },
  "language_info": {
   "codemirror_mode": {
    "name": "ipython",
    "version": 3
   },
   "file_extension": ".py",
   "mimetype": "text/x-python",
   "name": "python",
   "nbconvert_exporter": "python",
   "pygments_lexer": "ipython3",
   "version": "3.11.6"
  }
 },
 "nbformat": 4,
 "nbformat_minor": 5
}
