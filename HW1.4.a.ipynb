{
 "cells": [
  {
   "cell_type": "code",
   "execution_count": 1,
   "id": "e2cb9cdb",
   "metadata": {},
   "outputs": [
    {
     "name": "stdout",
     "output_type": "stream",
     "text": [
      "(5, 4)\n",
      "             id    age\n",
      "count  5.000000   4.00\n",
      "mean   3.000000  32.25\n",
      "std    1.581139   7.50\n",
      "min    1.000000  25.00\n",
      "25%    2.000000  27.25\n",
      "50%    3.000000  31.00\n",
      "75%    4.000000  36.00\n",
      "max    5.000000  42.00\n"
     ]
    }
   ],
   "source": [
    "import pandas as pd\n",
    "\n",
    "# Sample DataFrame\n",
    "data = {\n",
    "    'id': [1, 2, 3, 4, 5],\n",
    "    'name': ['John', 'Alice', 'Bob', 'Charlie', 'David'],\n",
    "    'age': [28, None, 34, 25, 42],\n",
    "    'city': ['New York', 'Los Angeles', None, 'San Francisco', 'Boston']\n",
    "}\n",
    "\n",
    "df = pd.DataFrame(data)\n",
    "\n",
    "# Display shape\n",
    "print(df.shape)  # Output: (5, 4)\n",
    "\n",
    "# Describe numerical columns only\n",
    "print(df.describe())  # Only 'id' and 'age' will be summarized\n"
   ]
  },
  {
   "cell_type": "code",
   "execution_count": null,
   "id": "4944d2ea",
   "metadata": {},
   "outputs": [],
   "source": []
  }
 ],
 "metadata": {
  "kernelspec": {
   "display_name": "Python 3 (ipykernel)",
   "language": "python",
   "name": "python3"
  },
  "language_info": {
   "codemirror_mode": {
    "name": "ipython",
    "version": 3
   },
   "file_extension": ".py",
   "mimetype": "text/x-python",
   "name": "python",
   "nbconvert_exporter": "python",
   "pygments_lexer": "ipython3",
   "version": "3.11.6"
  }
 },
 "nbformat": 4,
 "nbformat_minor": 5
}
